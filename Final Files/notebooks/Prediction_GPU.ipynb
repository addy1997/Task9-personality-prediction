{
  "nbformat": 4,
  "nbformat_minor": 0,
  "metadata": {
    "colab": {
      "name": "Prediction.ipynb",
      "provenance": [],
      "authorship_tag": "ABX9TyMWZnEqrjs3HghnnikKJDwG",
      "include_colab_link": true
    },
    "kernelspec": {
      "name": "python3",
      "display_name": "Python 3"
    },
    "accelerator": "GPU"
  },
  "cells": [
    {
      "cell_type": "markdown",
      "metadata": {
        "id": "view-in-github",
        "colab_type": "text"
      },
      "source": [
        "<a href=\"https://colab.research.google.com/github/addy1997/Task9-personality-prediction/blob/main/Prediction.ipynb\" target=\"_parent\"><img src=\"https://colab.research.google.com/assets/colab-badge.svg\" alt=\"Open In Colab\"/></a>"
      ]
    },
    {
      "cell_type": "code",
      "metadata": {
        "id": "J6LwSo7E80RU"
      },
      "source": [
        "from keras.models import load_model\n",
        "new_model1 = load_model('/content/Agreeaableness.model')\n",
        "new_model2 = load_model('/content/Openness.model')\n",
        "new_model3 = load_model('/content/Extraversion.model')\n",
        "new_model4 = load_model('/content/Conscientiousness.model')\n",
        "new_model5 = load_model('/content/Neuroticism.model')"
      ],
      "execution_count": 73,
      "outputs": []
    },
    {
      "cell_type": "code",
      "metadata": {
        "id": "0NnBbhu59JuD"
      },
      "source": [
        "from keras.optimizers import RMSprop\n",
        "opt = RMSprop(lr=0.001, rho=0.9, epsilon=None)\n",
        "\n",
        "new_model1.compile(loss='mean_squared_error', \n",
        "              optimizer=opt,\n",
        "              metrics=['accuracy'])\n",
        "new_model2.compile(loss='mean_squared_error', \n",
        "              optimizer=opt,\n",
        "              metrics=['accuracy'])\n",
        "new_model3.compile(loss='mean_squared_error', \n",
        "              optimizer=opt,\n",
        "              metrics=['accuracy'])\n",
        "new_model4.compile(loss='mean_squared_error', \n",
        "              optimizer=opt,\n",
        "              metrics=['accuracy'])\n",
        "new_model5.compile(loss='mean_squared_error', \n",
        "              optimizer=opt,\n",
        "              metrics=['accuracy'])"
      ],
      "execution_count": 74,
      "outputs": []
    },
    {
      "cell_type": "code",
      "metadata": {
        "id": "bz64_kLM9J4t",
        "colab": {
          "base_uri": "https://localhost:8080/"
        },
        "outputId": "3d649452-cebf-46f8-f1ff-c2276c2b3eeb"
      },
      "source": [
        "import pickle\n",
        "import numpy as np\n",
        "\n",
        "def get_idx_from_sent(sent, word_idx_map, max_l=51, kernel_size=5):\n",
        "    \"\"\"\n",
        "    Transforms sentence into a list of indices. Pad with zeroes.\n",
        "    \"\"\"\n",
        "    x = []\n",
        "    pad = kernel_size - 1\n",
        "    for i in range(pad):\n",
        "        x.append(0)\n",
        "    words = sent.split()\n",
        "    for word in words:\n",
        "        if word in word_idx_map:\n",
        "            x.append(word_idx_map[word])\n",
        "    while len(x) < max_l+2*pad:\n",
        "        x.append(0)\n",
        "    return x\n",
        "\n",
        "def make_idx_data(revs, word_idx_map, max_l=51, kernel_size=5):\n",
        "    \"\"\"\n",
        "    Transforms sentences into a 2-d matrix.\n",
        "    \"\"\"\n",
        "    test = []\n",
        "    for rev in revs:\n",
        "        sent = get_idx_from_sent(rev['text'], word_idx_map, max_l, kernel_size)\n",
        "        sent.append(rev['y'])\n",
        "        test.append(sent)\n",
        "    test = np.array(test, dtype=np.int)\n",
        "    return test\n",
        "\n",
        "\n",
        "print (\"loading data...\")\n",
        "with open(\"test_c.pickle\", 'rb') as f:\n",
        "    x = pickle.load(f, encoding='latin')\n",
        "revs, W, word_idx_map, vocab = x[0], x[1], x[2], x[3]\n",
        "print (\"data loaded!\")\n",
        "\n",
        "\n",
        "datasets = make_idx_data(revs, word_idx_map,max_l = 2721,kernel_size=5)\n",
        "print(datasets)"
      ],
      "execution_count": 86,
      "outputs": [
        {
          "output_type": "stream",
          "text": [
            "loading data...\n",
            "data loaded!\n",
            "[[0 0 0 ... 0 0 3]\n",
            " [0 0 0 ... 0 0 3]\n",
            " [0 0 0 ... 0 0 3]\n",
            " ...\n",
            " [0 0 0 ... 0 0 3]\n",
            " [0 0 0 ... 0 0 3]\n",
            " [0 0 0 ... 0 0 3]]\n"
          ],
          "name": "stdout"
        }
      ]
    },
    {
      "cell_type": "code",
      "metadata": {
        "id": "xl6Mz8V-9J9E",
        "colab": {
          "base_uri": "https://localhost:8080/"
        },
        "outputId": "ef795933-0862-4bbd-c10c-15d3256d6a1d"
      },
      "source": [
        "Nt = datasets.shape[0]\n",
        "test_X = np.zeros((Nt,2729), dtype=np.int)\n",
        "for i in range(Nt):\n",
        "    for j in range(2729):\n",
        "       test_X[i, j] = datasets[i, j]\n",
        "    \n",
        "print ('test_X.shape = {}'.format(test_X.shape))"
      ],
      "execution_count": 87,
      "outputs": [
        {
          "output_type": "stream",
          "text": [
            "test_X.shape = (9917, 2729)\n"
          ],
          "name": "stdout"
        }
      ]
    },
    {
      "cell_type": "code",
      "metadata": {
        "id": "mawTYN3j9KAd",
        "colab": {
          "base_uri": "https://localhost:8080/"
        },
        "outputId": "4a0b7c05-6acf-4588-a5f8-b77c33ae2c3f"
      },
      "source": [
        "test_X[0][298]"
      ],
      "execution_count": 88,
      "outputs": [
        {
          "output_type": "execute_result",
          "data": {
            "text/plain": [
              "0"
            ]
          },
          "metadata": {
            "tags": []
          },
          "execution_count": 88
        }
      ]
    },
    {
      "cell_type": "code",
      "metadata": {
        "id": "A2Gv0-99_LOr",
        "colab": {
          "base_uri": "https://localhost:8080/"
        },
        "outputId": "57db645d-ae68-4eb8-aa3d-0453cde07327"
      },
      "source": [
        "o = new_model1.predict(test_X, verbose = 1)"
      ],
      "execution_count": 89,
      "outputs": [
        {
          "output_type": "stream",
          "text": [
            "310/310 [==============================] - 7s 23ms/step\n"
          ],
          "name": "stdout"
        }
      ]
    },
    {
      "cell_type": "code",
      "metadata": {
        "id": "w5isdKqr_LRk",
        "colab": {
          "base_uri": "https://localhost:8080/"
        },
        "outputId": "ad3da6c8-4da4-480e-eba9-ab23c162d4f9"
      },
      "source": [
        "c = new_model2.predict(test_X, verbose = 1)"
      ],
      "execution_count": 90,
      "outputs": [
        {
          "output_type": "stream",
          "text": [
            "310/310 [==============================] - 7s 24ms/step\n"
          ],
          "name": "stdout"
        }
      ]
    },
    {
      "cell_type": "code",
      "metadata": {
        "id": "dNVgTD0p_LU7",
        "colab": {
          "base_uri": "https://localhost:8080/"
        },
        "outputId": "8694cda7-7463-42c7-dd1b-b59c2aadd074"
      },
      "source": [
        "e = new_model3.predict(test_X, verbose = 1)"
      ],
      "execution_count": 96,
      "outputs": [
        {
          "output_type": "stream",
          "text": [
            "310/310 [==============================] - 7s 23ms/step\n"
          ],
          "name": "stdout"
        }
      ]
    },
    {
      "cell_type": "code",
      "metadata": {
        "id": "vlfZCP9g_LXk",
        "colab": {
          "base_uri": "https://localhost:8080/"
        },
        "outputId": "1b3db910-2dea-40b9-ae93-944f34c84177"
      },
      "source": [
        "a = new_model4.predict(test_X, verbose = 1)"
      ],
      "execution_count": 92,
      "outputs": [
        {
          "output_type": "stream",
          "text": [
            "310/310 [==============================] - 7s 24ms/step\n"
          ],
          "name": "stdout"
        }
      ]
    },
    {
      "cell_type": "code",
      "metadata": {
        "id": "zQ38ttVP_LaP",
        "colab": {
          "base_uri": "https://localhost:8080/"
        },
        "outputId": "5d2e3f58-fa50-45ce-8da8-bf29126784b0"
      },
      "source": [
        "n = new_model5.predict(test_X, verbose = 1)"
      ],
      "execution_count": 93,
      "outputs": [
        {
          "output_type": "stream",
          "text": [
            "310/310 [==============================] - 7s 24ms/step\n"
          ],
          "name": "stdout"
        }
      ]
    },
    {
      "cell_type": "code",
      "metadata": {
        "id": "1KGxx6X5Z7Bw"
      },
      "source": [
        ""
      ],
      "execution_count": 93,
      "outputs": []
    }
  ]
}